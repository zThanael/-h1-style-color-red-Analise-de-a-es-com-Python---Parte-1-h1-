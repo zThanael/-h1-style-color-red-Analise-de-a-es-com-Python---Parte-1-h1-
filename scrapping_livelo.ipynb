{
 "cells": [
  {
   "cell_type": "markdown",
   "id": "f90f093b-6ea4-44cd-b2fc-7e3735859343",
   "metadata": {},
   "source": [
    "<h1 style = 'color: orange'> Configurações </h1>"
   ]
  },
  {
   "cell_type": "markdown",
   "id": "a298f80a-49fb-449f-93a1-721f7daa8471",
   "metadata": {},
   "source": [
    "### Importação da Bibliotecas"
   ]
  },
  {
   "cell_type": "code",
   "execution_count": 1,
   "id": "70524cae-155e-4648-aa00-6eda56b8b8ec",
   "metadata": {},
   "outputs": [],
   "source": [
    "from selenium import webdriver\n",
    "from selenium.webdriver.chrome.service import Service\n",
    "from selenium.webdriver.chrome.options import Options\n",
    "from webdriver_manager.chrome import ChromeDriverManager\n",
    "from selenium.webdriver.common.by import By\n",
    "\n",
    "import pandas as pd\n",
    "import re\n",
    "import datetime\n",
    "import time\n",
    "from sqlalchemy import create_engine"
   ]
  },
  {
   "cell_type": "code",
   "execution_count": 2,
   "id": "d84a4eb7-03f2-404e-9cb1-871fb51593e9",
   "metadata": {},
   "outputs": [],
   "source": [
    "before = datetime.datetime.now()"
   ]
  },
  {
   "cell_type": "markdown",
   "id": "6386fd05-f65e-4c60-b7aa-5a9bf8131f39",
   "metadata": {},
   "source": [
    "### Conectar ao Banco de dados"
   ]
  },
  {
   "cell_type": "code",
   "execution_count": null,
   "id": "fe70d3e3-b784-4570-871f-c93c4830adb3",
   "metadata": {},
   "outputs": [],
   "source": [
    "conexao = create_engine('postgresql://{user}:{password}@{host}:{port}/{database}'.format(\n",
    "    host='db.yeqkmhmarjrfnxyocpnh.supabase.co', \n",
    "    port = 5432,\n",
    "    database='postgres',\n",
    "    user='postgres', \n",
    "    password='ThButewicz2409'\n",
    "))"
   ]
  },
  {
   "cell_type": "markdown",
   "id": "6ad3ea7e-ec8a-49b4-991c-0126616bac43",
   "metadata": {},
   "source": [
    "### Configuração do Selenium"
   ]
  },
  {
   "cell_type": "code",
   "execution_count": null,
   "id": "8e4ccdac-929c-4d21-aa22-66add77bb48f",
   "metadata": {},
   "outputs": [],
   "source": [
    "options = Options()\n",
    "options.add_experimental_option(\"detach\",True)\n",
    "\n",
    "driver = webdriver.Chrome(service=Service(ChromeDriverManager().install()),\n",
    "                          options=options)"
   ]
  },
  {
   "cell_type": "markdown",
   "id": "1218c6e6-6fc3-441d-9ebf-2b0b2f56fce0",
   "metadata": {},
   "source": [
    "<h1 style = 'color: orange'> Juntar Pontos </h1>"
   ]
  },
  {
   "cell_type": "markdown",
   "id": "349069f4-b47f-4642-9712-bbb73c6c8355",
   "metadata": {},
   "source": [
    "#### OBter os dados"
   ]
  },
  {
   "cell_type": "code",
   "execution_count": null,
   "id": "a1dbbf19-c3c5-477c-8969-08d6e5ec0dac",
   "metadata": {},
   "outputs": [],
   "source": [
    "# Abrir o Link da Livelo Juntar Pontos \n",
    "driver.get(\"https://www.livelo.com.br/ganhe-pontos-compre-e-pontue\")\n",
    "time.sleep(1.8)"
   ]
  },
  {
   "cell_type": "code",
   "execution_count": null,
   "id": "9bb6d023-d6cc-48f4-b20e-7d514691e8e2",
   "metadata": {},
   "outputs": [],
   "source": [
    "# Obter os CARDs de ofertas\n",
    "cards = driver.find_elements(By.CLASS_NAME, 'parity__card')"
   ]
  },
  {
   "cell_type": "code",
   "execution_count": null,
   "id": "b1d8ce1e-10aa-4f71-83f6-480e4f6ace16",
   "metadata": {},
   "outputs": [],
   "source": [
    "# Navegar pelos cards Obtendo as informações de cada Oferta\n",
    "dados = []\n",
    "\n",
    "for card in cards:\n",
    "    \n",
    "    # Obter as informações cruciais de cada CARD\n",
    "    dado = {\n",
    "        \"nome\":card.find_element(By.CLASS_NAME,'parity__card--img')\\\n",
    "                                .get_attribute('alt'),\n",
    "        \"pontos\": card.find_element(By.CLASS_NAME,'parity__card--info')\\\n",
    "                                .text.replace('\\n',' ').split('R$')[-1],\n",
    "        \"link\" : card.find_element(By.CLASS_NAME,'gtm-link-event')\\\n",
    "                                .get_attribute('href')\n",
    "    }\n",
    "    \n",
    "    dados.append(dado)\n",
    "    \n",
    "# Criar o DataFrame\n",
    "df = pd.DataFrame(dados)"
   ]
  },
  {
   "cell_type": "code",
   "execution_count": null,
   "id": "8dd69c02-89fe-4949-ba7b-310626bd8d42",
   "metadata": {},
   "outputs": [
    {
     "data": {
      "text/html": [
       "<div>\n",
       "<style scoped>\n",
       "    .dataframe tbody tr th:only-of-type {\n",
       "        vertical-align: middle;\n",
       "    }\n",
       "\n",
       "    .dataframe tbody tr th {\n",
       "        vertical-align: top;\n",
       "    }\n",
       "\n",
       "    .dataframe thead th {\n",
       "        text-align: right;\n",
       "    }\n",
       "</style>\n",
       "<table border=\"1\" class=\"dataframe\">\n",
       "  <thead>\n",
       "    <tr style=\"text-align: right;\">\n",
       "      <th></th>\n",
       "      <th>nome</th>\n",
       "      <th>pontos</th>\n",
       "      <th>link</th>\n",
       "    </tr>\n",
       "  </thead>\n",
       "  <tbody>\n",
       "    <tr>\n",
       "      <th>0</th>\n",
       "      <td>ABC da Construcao</td>\n",
       "      <td>1 até 10 Pontos Livelo</td>\n",
       "      <td>https://www.livelo.com.br/ganhe-pontos-compre-...</td>\n",
       "    </tr>\n",
       "    <tr>\n",
       "      <th>1</th>\n",
       "      <td>Abelha Rainha</td>\n",
       "      <td>1 até 14 pontos no Clube Livelo ou até 7 Pont...</td>\n",
       "      <td>https://www.livelo.com.br/ganhe-pontos-compre-...</td>\n",
       "    </tr>\n",
       "    <tr>\n",
       "      <th>2</th>\n",
       "      <td>Aguativa Resort</td>\n",
       "      <td>1 = 2 Pontos Livelo</td>\n",
       "      <td>https://www.livelo.com.br/ganhe-pontos-compre-...</td>\n",
       "    </tr>\n",
       "    <tr>\n",
       "      <th>3</th>\n",
       "      <td>Aliexpress</td>\n",
       "      <td>U$ 1 até 3 pontos no Clube Livelo ou até 1 Pon...</td>\n",
       "      <td>https://www.livelo.com.br/ganhe-pontos-compre-...</td>\n",
       "    </tr>\n",
       "    <tr>\n",
       "      <th>4</th>\n",
       "      <td>Allianz</td>\n",
       "      <td>1 = 4 Pontos Livelo</td>\n",
       "      <td>https://www.livelo.com.br/ganhe-pontos-compre-...</td>\n",
       "    </tr>\n",
       "    <tr>\n",
       "      <th>...</th>\n",
       "      <td>...</td>\n",
       "      <td>...</td>\n",
       "      <td>...</td>\n",
       "    </tr>\n",
       "    <tr>\n",
       "      <th>256</th>\n",
       "      <td>Wish Hotels</td>\n",
       "      <td>1 = 8 Pontos Livelo</td>\n",
       "      <td>https://www.livelo.com.br/ganhe-pontos-compre-...</td>\n",
       "    </tr>\n",
       "    <tr>\n",
       "      <th>257</th>\n",
       "      <td>Wishin</td>\n",
       "      <td>1 = 2 Pontos Livelo</td>\n",
       "      <td>https://www.livelo.com.br/ganhe-pontos-compre-...</td>\n",
       "    </tr>\n",
       "    <tr>\n",
       "      <th>258</th>\n",
       "      <td>Yvy</td>\n",
       "      <td>1 = 3 Pontos Livelo</td>\n",
       "      <td>https://www.livelo.com.br/ganhe-pontos-compre-...</td>\n",
       "    </tr>\n",
       "    <tr>\n",
       "      <th>259</th>\n",
       "      <td>Zattini</td>\n",
       "      <td>1 = 3 Pontos Livelo</td>\n",
       "      <td>https://www.livelo.com.br/ganhe-pontos-compre-...</td>\n",
       "    </tr>\n",
       "    <tr>\n",
       "      <th>260</th>\n",
       "      <td>Zissou</td>\n",
       "      <td>1 = 3 Pontos Livelo</td>\n",
       "      <td>https://www.livelo.com.br/ganhe-pontos-compre-...</td>\n",
       "    </tr>\n",
       "  </tbody>\n",
       "</table>\n",
       "<p>261 rows × 3 columns</p>\n",
       "</div>"
      ],
      "text/plain": [
       "                  nome                                             pontos  \\\n",
       "0    ABC da Construcao                             1 até 10 Pontos Livelo   \n",
       "1        Abelha Rainha   1 até 14 pontos no Clube Livelo ou até 7 Pont...   \n",
       "2      Aguativa Resort                                1 = 2 Pontos Livelo   \n",
       "3           Aliexpress  U$ 1 até 3 pontos no Clube Livelo ou até 1 Pon...   \n",
       "4              Allianz                                1 = 4 Pontos Livelo   \n",
       "..                 ...                                                ...   \n",
       "256        Wish Hotels                                1 = 8 Pontos Livelo   \n",
       "257             Wishin                                1 = 2 Pontos Livelo   \n",
       "258                Yvy                                1 = 3 Pontos Livelo   \n",
       "259            Zattini                                1 = 3 Pontos Livelo   \n",
       "260             Zissou                                1 = 3 Pontos Livelo   \n",
       "\n",
       "                                                  link  \n",
       "0    https://www.livelo.com.br/ganhe-pontos-compre-...  \n",
       "1    https://www.livelo.com.br/ganhe-pontos-compre-...  \n",
       "2    https://www.livelo.com.br/ganhe-pontos-compre-...  \n",
       "3    https://www.livelo.com.br/ganhe-pontos-compre-...  \n",
       "4    https://www.livelo.com.br/ganhe-pontos-compre-...  \n",
       "..                                                 ...  \n",
       "256  https://www.livelo.com.br/ganhe-pontos-compre-...  \n",
       "257  https://www.livelo.com.br/ganhe-pontos-compre-...  \n",
       "258  https://www.livelo.com.br/ganhe-pontos-compre-...  \n",
       "259  https://www.livelo.com.br/ganhe-pontos-compre-...  \n",
       "260  https://www.livelo.com.br/ganhe-pontos-compre-...  \n",
       "\n",
       "[261 rows x 3 columns]"
      ]
     },
     "execution_count": 8,
     "metadata": {},
     "output_type": "execute_result"
    }
   ],
   "source": [
    "df"
   ]
  },
  {
   "cell_type": "markdown",
   "id": "ad78e986-a6be-44d8-9c84-9590c3e90c59",
   "metadata": {},
   "source": [
    "#### Manipular os dados"
   ]
  },
  {
   "cell_type": "code",
   "execution_count": null,
   "id": "4ecb9660-79c7-462d-b7fe-200d929f5368",
   "metadata": {},
   "outputs": [],
   "source": [
    "# Regex para obter o palavra antes da ultimo \"ponto\" da String\n",
    "pattern = r'(\\d+)\\s*Ponto[s]?\\s+Livelo(?![\\s\\S]*\\bPonto\\s+Livelo)'\n",
    "\n",
    "# Ajustar a coluna de Pontos\n",
    "df['pontos'] = df['pontos'].apply(lambda string: re.search(pattern, string).group(1))\n",
    "df['referencia'] = datetime.date.today()\n",
    "df['pontos'] = df['pontos'].astype(int)"
   ]
  },
  {
   "cell_type": "markdown",
   "id": "96f6ac42-14bc-4246-9ff5-32d1ccc6dd64",
   "metadata": {},
   "source": [
    "### Acessar cada campanha para pegar as datas"
   ]
  },
  {
   "cell_type": "code",
   "execution_count": null,
   "id": "1799c3d6-a1d0-49a1-a16b-1af3ed09cc6b",
   "metadata": {},
   "outputs": [],
   "source": [
    "df['inicio'] = None\n",
    "df['fim'] = None\n",
    "\n",
    "# RegEx para encontrar as datas que preciso.\n",
    "pattern_begin = r'\\b\\d{2}\\b'\n",
    "pattern_end =  r'\\d{2}/\\d{2}/\\d{4}'"
   ]
  },
  {
   "cell_type": "code",
   "execution_count": null,
   "id": "3ad9aac7-653b-4b76-bfa9-59c883f7b5e3",
   "metadata": {},
   "outputs": [
    {
     "name": "stderr",
     "output_type": "stream",
     "text": [
      "C:\\Users\\zThan\\AppData\\Local\\Temp\\ipykernel_12852\\2513902795.py:18: SettingWithCopyWarning: \n",
      "A value is trying to be set on a copy of a slice from a DataFrame\n",
      "\n",
      "See the caveats in the documentation: https://pandas.pydata.org/pandas-docs/stable/user_guide/indexing.html#returning-a-view-versus-a-copy\n",
      "  df['inicio'].iloc[index] = datetime.date(data_final.year, data_final.month, \\\n",
      "C:\\Users\\zThan\\AppData\\Local\\Temp\\ipykernel_12852\\2513902795.py:20: SettingWithCopyWarning: \n",
      "A value is trying to be set on a copy of a slice from a DataFrame\n",
      "\n",
      "See the caveats in the documentation: https://pandas.pydata.org/pandas-docs/stable/user_guide/indexing.html#returning-a-view-versus-a-copy\n",
      "  df['fim'].iloc[index] = data_final\n"
     ]
    },
    {
     "ename": "NoSuchElementException",
     "evalue": "Message: no such element: Unable to locate element: {\"method\":\"css selector\",\"selector\":\".banner__blocktext-text\"}\n  (Session info: chrome=116.0.5845.188)\nStacktrace:\n\tGetHandleVerifier [0x008037C3+48947]\n\t(No symbol) [0x00798551]\n\t(No symbol) [0x0069C92D]\n\t(No symbol) [0x006C9E38]\n\t(No symbol) [0x006C9EFB]\n\t(No symbol) [0x006F8EF2]\n\t(No symbol) [0x006E50D4]\n\t(No symbol) [0x006F75DA]\n\t(No symbol) [0x006E4E86]\n\t(No symbol) [0x006C16C7]\n\t(No symbol) [0x006C284D]\n\tGetHandleVerifier [0x00A4FDF9+2458985]\n\tGetHandleVerifier [0x00A9744F+2751423]\n\tGetHandleVerifier [0x00A91361+2726609]\n\tGetHandleVerifier [0x00880680+560624]\n\t(No symbol) [0x007A238C]\n\t(No symbol) [0x0079E268]\n\t(No symbol) [0x0079E392]\n\t(No symbol) [0x007910B7]\n\tBaseThreadInitThunk [0x76717BA9+25]\n\tRtlInitializeExceptionChain [0x779AB79B+107]\n\tRtlClearBits [0x779AB71F+191]\n",
     "output_type": "error",
     "traceback": [
      "\u001b[1;31m---------------------------------------------------------------------------\u001b[0m",
      "\u001b[1;31mNoSuchElementException\u001b[0m                    Traceback (most recent call last)",
      "\u001b[1;32m~\\AppData\\Local\\Temp\\ipykernel_12852\\2513902795.py\u001b[0m in \u001b[0;36m<module>\u001b[1;34m\u001b[0m\n\u001b[0;32m      9\u001b[0m \u001b[1;33m\u001b[0m\u001b[0m\n\u001b[0;32m     10\u001b[0m     \u001b[1;31m# Obter a string que contém essas informações\u001b[0m\u001b[1;33m\u001b[0m\u001b[1;33m\u001b[0m\u001b[0m\n\u001b[1;32m---> 11\u001b[1;33m     \u001b[0mstring_oferta\u001b[0m \u001b[1;33m=\u001b[0m \u001b[0mdriver\u001b[0m\u001b[1;33m.\u001b[0m\u001b[0mfind_element\u001b[0m\u001b[1;33m(\u001b[0m\u001b[0mBy\u001b[0m\u001b[1;33m.\u001b[0m\u001b[0mCLASS_NAME\u001b[0m\u001b[1;33m,\u001b[0m\u001b[1;34m'banner__blocktext-text'\u001b[0m\u001b[1;33m)\u001b[0m\u001b[1;33m.\u001b[0m\u001b[0mtext\u001b[0m\u001b[0;31m\\\u001b[0m\u001b[1;33m\u001b[0m\u001b[1;33m\u001b[0m\u001b[0m\n\u001b[0m\u001b[0;32m     12\u001b[0m                                                                                 \u001b[1;33m.\u001b[0m\u001b[0msplit\u001b[0m\u001b[1;33m(\u001b[0m\u001b[1;34m'LIVELO'\u001b[0m\u001b[1;33m)\u001b[0m\u001b[1;33m[\u001b[0m\u001b[1;33m-\u001b[0m\u001b[1;36m1\u001b[0m\u001b[1;33m]\u001b[0m\u001b[1;33m\u001b[0m\u001b[1;33m\u001b[0m\u001b[0m\n\u001b[0;32m     13\u001b[0m \u001b[1;33m\u001b[0m\u001b[0m\n",
      "\u001b[1;32m~\\anaconda3\\lib\\site-packages\\selenium\\webdriver\\remote\\webdriver.py\u001b[0m in \u001b[0;36mfind_element\u001b[1;34m(self, by, value)\u001b[0m\n\u001b[0;32m    828\u001b[0m             \u001b[0mvalue\u001b[0m \u001b[1;33m=\u001b[0m \u001b[1;34mf'[name=\"{value}\"]'\u001b[0m\u001b[1;33m\u001b[0m\u001b[1;33m\u001b[0m\u001b[0m\n\u001b[0;32m    829\u001b[0m \u001b[1;33m\u001b[0m\u001b[0m\n\u001b[1;32m--> 830\u001b[1;33m         \u001b[1;32mreturn\u001b[0m \u001b[0mself\u001b[0m\u001b[1;33m.\u001b[0m\u001b[0mexecute\u001b[0m\u001b[1;33m(\u001b[0m\u001b[0mCommand\u001b[0m\u001b[1;33m.\u001b[0m\u001b[0mFIND_ELEMENT\u001b[0m\u001b[1;33m,\u001b[0m \u001b[1;33m{\u001b[0m\u001b[1;34m\"using\"\u001b[0m\u001b[1;33m:\u001b[0m \u001b[0mby\u001b[0m\u001b[1;33m,\u001b[0m \u001b[1;34m\"value\"\u001b[0m\u001b[1;33m:\u001b[0m \u001b[0mvalue\u001b[0m\u001b[1;33m}\u001b[0m\u001b[1;33m)\u001b[0m\u001b[1;33m[\u001b[0m\u001b[1;34m\"value\"\u001b[0m\u001b[1;33m]\u001b[0m\u001b[1;33m\u001b[0m\u001b[1;33m\u001b[0m\u001b[0m\n\u001b[0m\u001b[0;32m    831\u001b[0m \u001b[1;33m\u001b[0m\u001b[0m\n\u001b[0;32m    832\u001b[0m     \u001b[1;32mdef\u001b[0m \u001b[0mfind_elements\u001b[0m\u001b[1;33m(\u001b[0m\u001b[0mself\u001b[0m\u001b[1;33m,\u001b[0m \u001b[0mby\u001b[0m\u001b[1;33m=\u001b[0m\u001b[0mBy\u001b[0m\u001b[1;33m.\u001b[0m\u001b[0mID\u001b[0m\u001b[1;33m,\u001b[0m \u001b[0mvalue\u001b[0m\u001b[1;33m:\u001b[0m \u001b[0mOptional\u001b[0m\u001b[1;33m[\u001b[0m\u001b[0mstr\u001b[0m\u001b[1;33m]\u001b[0m \u001b[1;33m=\u001b[0m \u001b[1;32mNone\u001b[0m\u001b[1;33m)\u001b[0m \u001b[1;33m->\u001b[0m \u001b[0mList\u001b[0m\u001b[1;33m[\u001b[0m\u001b[0mWebElement\u001b[0m\u001b[1;33m]\u001b[0m\u001b[1;33m:\u001b[0m\u001b[1;33m\u001b[0m\u001b[1;33m\u001b[0m\u001b[0m\n",
      "\u001b[1;32m~\\anaconda3\\lib\\site-packages\\selenium\\webdriver\\remote\\webdriver.py\u001b[0m in \u001b[0;36mexecute\u001b[1;34m(self, driver_command, params)\u001b[0m\n\u001b[0;32m    438\u001b[0m         \u001b[0mresponse\u001b[0m \u001b[1;33m=\u001b[0m \u001b[0mself\u001b[0m\u001b[1;33m.\u001b[0m\u001b[0mcommand_executor\u001b[0m\u001b[1;33m.\u001b[0m\u001b[0mexecute\u001b[0m\u001b[1;33m(\u001b[0m\u001b[0mdriver_command\u001b[0m\u001b[1;33m,\u001b[0m \u001b[0mparams\u001b[0m\u001b[1;33m)\u001b[0m\u001b[1;33m\u001b[0m\u001b[1;33m\u001b[0m\u001b[0m\n\u001b[0;32m    439\u001b[0m         \u001b[1;32mif\u001b[0m \u001b[0mresponse\u001b[0m\u001b[1;33m:\u001b[0m\u001b[1;33m\u001b[0m\u001b[1;33m\u001b[0m\u001b[0m\n\u001b[1;32m--> 440\u001b[1;33m             \u001b[0mself\u001b[0m\u001b[1;33m.\u001b[0m\u001b[0merror_handler\u001b[0m\u001b[1;33m.\u001b[0m\u001b[0mcheck_response\u001b[0m\u001b[1;33m(\u001b[0m\u001b[0mresponse\u001b[0m\u001b[1;33m)\u001b[0m\u001b[1;33m\u001b[0m\u001b[1;33m\u001b[0m\u001b[0m\n\u001b[0m\u001b[0;32m    441\u001b[0m             \u001b[0mresponse\u001b[0m\u001b[1;33m[\u001b[0m\u001b[1;34m\"value\"\u001b[0m\u001b[1;33m]\u001b[0m \u001b[1;33m=\u001b[0m \u001b[0mself\u001b[0m\u001b[1;33m.\u001b[0m\u001b[0m_unwrap_value\u001b[0m\u001b[1;33m(\u001b[0m\u001b[0mresponse\u001b[0m\u001b[1;33m.\u001b[0m\u001b[0mget\u001b[0m\u001b[1;33m(\u001b[0m\u001b[1;34m\"value\"\u001b[0m\u001b[1;33m,\u001b[0m \u001b[1;32mNone\u001b[0m\u001b[1;33m)\u001b[0m\u001b[1;33m)\u001b[0m\u001b[1;33m\u001b[0m\u001b[1;33m\u001b[0m\u001b[0m\n\u001b[0;32m    442\u001b[0m             \u001b[1;32mreturn\u001b[0m \u001b[0mresponse\u001b[0m\u001b[1;33m\u001b[0m\u001b[1;33m\u001b[0m\u001b[0m\n",
      "\u001b[1;32m~\\anaconda3\\lib\\site-packages\\selenium\\webdriver\\remote\\errorhandler.py\u001b[0m in \u001b[0;36mcheck_response\u001b[1;34m(self, response)\u001b[0m\n\u001b[0;32m    243\u001b[0m                 \u001b[0malert_text\u001b[0m \u001b[1;33m=\u001b[0m \u001b[0mvalue\u001b[0m\u001b[1;33m[\u001b[0m\u001b[1;34m\"alert\"\u001b[0m\u001b[1;33m]\u001b[0m\u001b[1;33m.\u001b[0m\u001b[0mget\u001b[0m\u001b[1;33m(\u001b[0m\u001b[1;34m\"text\"\u001b[0m\u001b[1;33m)\u001b[0m\u001b[1;33m\u001b[0m\u001b[1;33m\u001b[0m\u001b[0m\n\u001b[0;32m    244\u001b[0m             \u001b[1;32mraise\u001b[0m \u001b[0mexception_class\u001b[0m\u001b[1;33m(\u001b[0m\u001b[0mmessage\u001b[0m\u001b[1;33m,\u001b[0m \u001b[0mscreen\u001b[0m\u001b[1;33m,\u001b[0m \u001b[0mstacktrace\u001b[0m\u001b[1;33m,\u001b[0m \u001b[0malert_text\u001b[0m\u001b[1;33m)\u001b[0m  \u001b[1;31m# type: ignore[call-arg]  # mypy is not smart enough here\u001b[0m\u001b[1;33m\u001b[0m\u001b[1;33m\u001b[0m\u001b[0m\n\u001b[1;32m--> 245\u001b[1;33m         \u001b[1;32mraise\u001b[0m \u001b[0mexception_class\u001b[0m\u001b[1;33m(\u001b[0m\u001b[0mmessage\u001b[0m\u001b[1;33m,\u001b[0m \u001b[0mscreen\u001b[0m\u001b[1;33m,\u001b[0m \u001b[0mstacktrace\u001b[0m\u001b[1;33m)\u001b[0m\u001b[1;33m\u001b[0m\u001b[1;33m\u001b[0m\u001b[0m\n\u001b[0m",
      "\u001b[1;31mNoSuchElementException\u001b[0m: Message: no such element: Unable to locate element: {\"method\":\"css selector\",\"selector\":\".banner__blocktext-text\"}\n  (Session info: chrome=116.0.5845.188)\nStacktrace:\n\tGetHandleVerifier [0x008037C3+48947]\n\t(No symbol) [0x00798551]\n\t(No symbol) [0x0069C92D]\n\t(No symbol) [0x006C9E38]\n\t(No symbol) [0x006C9EFB]\n\t(No symbol) [0x006F8EF2]\n\t(No symbol) [0x006E50D4]\n\t(No symbol) [0x006F75DA]\n\t(No symbol) [0x006E4E86]\n\t(No symbol) [0x006C16C7]\n\t(No symbol) [0x006C284D]\n\tGetHandleVerifier [0x00A4FDF9+2458985]\n\tGetHandleVerifier [0x00A9744F+2751423]\n\tGetHandleVerifier [0x00A91361+2726609]\n\tGetHandleVerifier [0x00880680+560624]\n\t(No symbol) [0x007A238C]\n\t(No symbol) [0x0079E268]\n\t(No symbol) [0x0079E392]\n\t(No symbol) [0x007910B7]\n\tBaseThreadInitThunk [0x76717BA9+25]\n\tRtlInitializeExceptionChain [0x779AB79B+107]\n\tRtlClearBits [0x779AB71F+191]\n"
     ]
    }
   ],
   "source": [
    "for index,link in enumerate(df['link']):\n",
    "    \n",
    "    # Skipar os casos onde são menos de 3 Pontos = Campanhas vitalicias\n",
    "    if df['pontos'].iloc[index] <= 3: continue\n",
    "    \n",
    "    # Acessar a Campanha\n",
    "    driver.get(link)\n",
    "    time.sleep(1.9)\n",
    "    \n",
    "    # Obter a string que contém essas informações\n",
    "    string_oferta = driver.find_element(By.CLASS_NAME,'banner__blocktext-text').text\\\n",
    "                                                                                .split('LIVELO')[-1]\n",
    "    \n",
    "    # Obter as datas\n",
    "    try:\n",
    "        data_final = datetime.datetime.strptime(re.search(pattern_end, string_oferta).group(),'%d/%m/%Y').date()\n",
    "\n",
    "        df['inicio'].iloc[index] = datetime.date(data_final.year, data_final.month, \\\n",
    "                                                 int(re.search(pattern_begin, string_oferta).group()))\n",
    "        df['fim'].iloc[index] = data_final\n",
    "        \n",
    "    except:\n",
    "        continue"
   ]
  },
  {
   "cell_type": "code",
   "execution_count": null,
   "id": "765e862a-4e37-4cfc-8092-ffc9de6590c6",
   "metadata": {},
   "outputs": [],
   "source": [
    "# Filtrar a ordem das colunas\n",
    "df = df[['referencia','nome','pontos','inicio','fim','link']]"
   ]
  },
  {
   "cell_type": "markdown",
   "id": "6d87057b-8275-4fe3-b5f7-24823d4c9e84",
   "metadata": {},
   "source": [
    "## Verificar ofertas já inseridas"
   ]
  },
  {
   "cell_type": "code",
   "execution_count": null,
   "id": "00e3290d-8270-49ec-a1f7-38033cba8491",
   "metadata": {},
   "outputs": [],
   "source": [
    "# Obter as ofertas\n",
    "ofertas = pd.read_sql('select * from livelo_ofertas', conexao)\n",
    "\n",
    "# Adicionar ao dataframe\n",
    "df = df.append(ofertas)"
   ]
  },
  {
   "cell_type": "code",
   "execution_count": null,
   "id": "31382869-19d8-43e7-96bd-7d6c8ab28288",
   "metadata": {},
   "outputs": [],
   "source": [
    "# Excluir os dados duplicados\n",
    "df = df.drop_duplicates(subset = ['nome','inicio','fim'])"
   ]
  },
  {
   "cell_type": "code",
   "execution_count": null,
   "id": "1db5547a-4f36-4659-9db3-c300cec0c56b",
   "metadata": {},
   "outputs": [],
   "source": [
    "# Inserir os novos dados\n",
    "df.to_sql('livelo_ofertas', conexao, if_exists='replace', index = False)"
   ]
  },
  {
   "cell_type": "markdown",
   "id": "a8795cef-0257-4a3c-a6f9-1e07792d47a0",
   "metadata": {},
   "source": [
    "<h1 style = 'color: orange'> Transferências de Pontos </h1>"
   ]
  },
  {
   "cell_type": "code",
   "execution_count": null,
   "id": "c7928884-682e-4976-950b-97ab8a652793",
   "metadata": {},
   "outputs": [],
   "source": [
    "driver.get('https://www.livelo.com.br/transfira-seus-pontos-para-outros-programas')"
   ]
  },
  {
   "cell_type": "code",
   "execution_count": null,
   "id": "03dc4d9b-5ff2-4824-b162-b896f28346b2",
   "metadata": {},
   "outputs": [],
   "source": [
    "# Obter os CARDs de ofertas\n",
    "cards = driver.find_elements(By.CLASS_NAME, 'itemBox')\n",
    "\n",
    "time.sleep(1.7)"
   ]
  },
  {
   "cell_type": "code",
   "execution_count": null,
   "id": "810c4ad1-a582-4bcf-9602-923dc3f739b4",
   "metadata": {},
   "outputs": [],
   "source": [
    "dados = [] \n",
    "\n",
    "for card in cards:\n",
    "    dado = {\n",
    "    'programa' : card.find_element(By.CLASS_NAME,'itemBox__image').find_element(By.TAG_NAME,'img').get_attribute('alt'),\n",
    "    'pontos'   : card.find_element(By.CLASS_NAME,'itemBox__description').text.replace('\\n',' ')\n",
    "    }\n",
    "    dados.append(dado)\n",
    "\n",
    "transf = pd.DataFrame(dados)"
   ]
  },
  {
   "cell_type": "code",
   "execution_count": null,
   "id": "dff1572a-5374-447f-8041-a946d53e5de9",
   "metadata": {},
   "outputs": [],
   "source": [
    "pattern_number = r'\\b\\d+(\\.\\d+)?\\b'\n",
    "\n",
    "transf['pontos_livelo'] = transf['pontos'].apply(lambda string: re.search(pattern_number, string.split('=')[0]).group())\n",
    "transf['pontos_programa'] = transf['pontos'].apply(lambda string: re.search(pattern_number, string.split('=')[-1]).group())\n",
    "\n",
    "transf = transf.drop(columns = ['pontos'])"
   ]
  },
  {
   "cell_type": "markdown",
   "id": "beba426f-a7aa-4088-8743-5f254f25ee92",
   "metadata": {},
   "source": [
    "### Inserir no Banco"
   ]
  },
  {
   "cell_type": "code",
   "execution_count": null,
   "id": "9e97fa97-a8c5-4dab-86f4-fb3f7be75aba",
   "metadata": {},
   "outputs": [],
   "source": [
    "transf.to_sql('livelo_transferencias', conexao, if_exists = 'replace', index = False)"
   ]
  },
  {
   "cell_type": "code",
   "execution_count": null,
   "id": "0ab11083-d2a9-43bc-938a-0c039dd8d079",
   "metadata": {},
   "outputs": [],
   "source": [
    "conexao.dispose()"
   ]
  },
  {
   "cell_type": "code",
   "execution_count": null,
   "id": "db84cda2-c4e1-479f-917f-97daa0192b39",
   "metadata": {},
   "outputs": [],
   "source": [
    "after = datetime.datetime.now()\n",
    "print(f'Tempo de Execução: {after - before}')"
   ]
  },
  {
   "cell_type": "code",
   "execution_count": null,
   "id": "6774fd8c-b118-407d-8488-d15ab206ab4a",
   "metadata": {},
   "outputs": [],
   "source": []
  }
 ],
 "metadata": {
  "kernelspec": {
   "display_name": "Python 3 (ipykernel)",
   "language": "python",
   "name": "python3"
  },
  "language_info": {
   "codemirror_mode": {
    "name": "ipython",
    "version": 3
   },
   "file_extension": ".py",
   "mimetype": "text/x-python",
   "name": "python",
   "nbconvert_exporter": "python",
   "pygments_lexer": "ipython3",
   "version": "3.9.13"
  }
 },
 "nbformat": 4,
 "nbformat_minor": 5
}
